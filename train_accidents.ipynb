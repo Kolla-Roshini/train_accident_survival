{
 "cells": [
  {
   "cell_type": "code",
   "execution_count": 6,
   "id": "2fbb5b5b-9ed5-4576-a7b2-30a55ad6aa2b",
   "metadata": {},
   "outputs": [],
   "source": [
    "import pandas as pd\n",
    "import numpy as np\n",
    "import matplotlib.pyplot as plt\n",
    "import seaborn as sns\n",
    "import warnings \n",
    "warnings.filterwarnings('ignore')\n",
    "from sklearn.model_selection import train_test_split\n",
    "from sklearn.linear_model import LogisticRegression\n",
    "from sklearn.metrics import accuracy_score\n",
    "\n",
    "\n"
   ]
  },
  {
   "cell_type": "code",
   "execution_count": 7,
   "id": "d9c9df8f-c184-456d-987d-af482dd67a04",
   "metadata": {},
   "outputs": [
    {
     "name": "stdout",
     "output_type": "stream",
     "text": [
      "   Passenger_ID  Accident_ID  Age  Gender  Unnamed: 4     Class  Unnamed: 6  \\\n",
      "0             1           23   35  Female         NaN  Business         NaN   \n",
      "1             2           85   65    Male         NaN  Business         NaN   \n",
      "2             3           19   47    Male         NaN  Business         NaN   \n",
      "3             4           19   78    Male         NaN  Business         NaN   \n",
      "4             5           36    3    Male         NaN   Economy         NaN   \n",
      "\n",
      "   Survival_Status Injury_Severity        Date Location  Train_Speed_kmh  \\\n",
      "0                0             NaN  03-06-2020   City D               71   \n",
      "1                0             NaN  11-08-2021   City D              130   \n",
      "2                1           Minor  06-05-2020   City C               87   \n",
      "3                0          Severe  06-05-2020   City C               87   \n",
      "4                0           Minor  02-09-2020   City B              122   \n",
      "\n",
      "   Unnamed: 12               Cause  \n",
      "0          NaN         Human Error  \n",
      "1          NaN           Collision  \n",
      "2          NaN  Mechanical Failure  \n",
      "3          NaN  Mechanical Failure  \n",
      "4          NaN  Mechanical Failure  \n"
     ]
    }
   ],
   "source": [
    "data=pd.read_csv(\"C:\\\\Users\\\\Roshini\\\\OneDrive\\\\Documents\\\\Desktop\\\\train_accidents_combined.csv\")\n",
    "print(data.head())"
   ]
  },
  {
   "cell_type": "code",
   "execution_count": 8,
   "id": "2d1f656e-ca63-4377-822a-de9b9820b698",
   "metadata": {},
   "outputs": [
    {
     "data": {
      "text/plain": [
       "(1000, 14)"
      ]
     },
     "execution_count": 8,
     "metadata": {},
     "output_type": "execute_result"
    }
   ],
   "source": [
    "data.shape"
   ]
  },
  {
   "cell_type": "code",
   "execution_count": 9,
   "id": "905009cb-b8c4-4b44-a072-7e1371e0e003",
   "metadata": {},
   "outputs": [
    {
     "name": "stdout",
     "output_type": "stream",
     "text": [
      "<class 'pandas.core.frame.DataFrame'>\n",
      "RangeIndex: 1000 entries, 0 to 999\n",
      "Data columns (total 14 columns):\n",
      " #   Column           Non-Null Count  Dtype  \n",
      "---  ------           --------------  -----  \n",
      " 0   Passenger_ID     1000 non-null   int64  \n",
      " 1   Accident_ID      1000 non-null   int64  \n",
      " 2   Age              1000 non-null   int64  \n",
      " 3   Gender           1000 non-null   object \n",
      " 4   Unnamed: 4       0 non-null      float64\n",
      " 5   Class            1000 non-null   object \n",
      " 6   Unnamed: 6       0 non-null      float64\n",
      " 7   Survival_Status  1000 non-null   int64  \n",
      " 8   Injury_Severity  690 non-null    object \n",
      " 9   Date             1000 non-null   object \n",
      " 10  Location         1000 non-null   object \n",
      " 11  Train_Speed_kmh  1000 non-null   int64  \n",
      " 12  Unnamed: 12      0 non-null      float64\n",
      " 13  Cause            1000 non-null   object \n",
      "dtypes: float64(3), int64(5), object(6)\n",
      "memory usage: 109.5+ KB\n"
     ]
    }
   ],
   "source": [
    "data.info()"
   ]
  },
  {
   "cell_type": "code",
   "execution_count": 10,
   "id": "d548c26b-0308-464a-af91-cfa89f24b047",
   "metadata": {},
   "outputs": [
    {
     "data": {
      "text/plain": [
       "Passenger_ID          0\n",
       "Accident_ID           0\n",
       "Age                   0\n",
       "Gender                0\n",
       "Unnamed: 4         1000\n",
       "Class                 0\n",
       "Unnamed: 6         1000\n",
       "Survival_Status       0\n",
       "Injury_Severity     310\n",
       "Date                  0\n",
       "Location              0\n",
       "Train_Speed_kmh       0\n",
       "Unnamed: 12        1000\n",
       "Cause                 0\n",
       "dtype: int64"
      ]
     },
     "execution_count": 10,
     "metadata": {},
     "output_type": "execute_result"
    }
   ],
   "source": [
    "data.isnull().sum()"
   ]
  },
  {
   "cell_type": "code",
   "execution_count": 11,
   "id": "cf984d81-5d6d-4018-be94-8b6609ea9803",
   "metadata": {},
   "outputs": [
    {
     "data": {
      "text/plain": [
       "Passenger_ID          0\n",
       "Accident_ID           0\n",
       "Age                   0\n",
       "Gender                0\n",
       "Unnamed: 4         1000\n",
       "Class                 0\n",
       "Unnamed: 6         1000\n",
       "Survival_Status       0\n",
       "Injury_Severity     310\n",
       "Date                  0\n",
       "Location              0\n",
       "Train_Speed_kmh       0\n",
       "Unnamed: 12        1000\n",
       "Cause                 0\n",
       "dtype: int64"
      ]
     },
     "execution_count": 11,
     "metadata": {},
     "output_type": "execute_result"
    }
   ],
   "source": [
    "data.isnull().sum()"
   ]
  },
  {
   "cell_type": "code",
   "execution_count": 16,
   "id": "169ceb4f-98f7-45e0-a379-cb6d94b5c02c",
   "metadata": {},
   "outputs": [],
   "source": [
    "data=data.drop(columns='Unnamed: 6',axis=1)"
   ]
  },
  {
   "cell_type": "code",
   "execution_count": 17,
   "id": "02b6238d-2dcc-425d-8b79-1718045c359d",
   "metadata": {},
   "outputs": [
    {
     "data": {
      "text/plain": [
       "Passenger_ID         0\n",
       "Accident_ID          0\n",
       "Age                  0\n",
       "Gender               0\n",
       "Class                0\n",
       "Survival_Status      0\n",
       "Injury_Severity    310\n",
       "Date                 0\n",
       "Location             0\n",
       "Train_Speed_kmh      0\n",
       "Cause                0\n",
       "dtype: int64"
      ]
     },
     "execution_count": 17,
     "metadata": {},
     "output_type": "execute_result"
    }
   ],
   "source": [
    "data.isnull().sum()"
   ]
  },
  {
   "cell_type": "code",
   "execution_count": 20,
   "id": "7df0b67a-15d8-4c8b-b3ad-9d7f354b410e",
   "metadata": {},
   "outputs": [],
   "source": [
    "# Convert column to numeric, coercing errors to NaN\n",
    "data['Injury_Severity'] = pd.to_numeric(data['Injury_Severity'], errors='coerce')\n",
    "\n",
    "# Fill missing values with the mean of the column\n",
    "data['Injury_Severity'].fillna(data['Injury_Severity'].mean(), inplace=True)\n"
   ]
  },
  {
   "cell_type": "code",
   "execution_count": 21,
   "id": "359acc26-eef4-4ecf-9208-9280e3dadef3",
   "metadata": {},
   "outputs": [
    {
     "data": {
      "text/plain": [
       "Passenger_ID          0\n",
       "Accident_ID           0\n",
       "Age                   0\n",
       "Gender                0\n",
       "Class                 0\n",
       "Survival_Status       0\n",
       "Injury_Severity    1000\n",
       "Date                  0\n",
       "Location              0\n",
       "Train_Speed_kmh       0\n",
       "Cause                 0\n",
       "dtype: int64"
      ]
     },
     "execution_count": 21,
     "metadata": {},
     "output_type": "execute_result"
    }
   ],
   "source": [
    "data.isnull().sum()"
   ]
  },
  {
   "cell_type": "code",
   "execution_count": 22,
   "id": "2fbb1c3e-3ebb-4631-97dd-a694687eef7c",
   "metadata": {},
   "outputs": [],
   "source": [
    "data=data.drop(columns='Injury_Severity',axis=1)"
   ]
  },
  {
   "cell_type": "code",
   "execution_count": 23,
   "id": "dabddb43-6e46-405e-b88e-4ad3b2d57b0b",
   "metadata": {},
   "outputs": [
    {
     "data": {
      "text/plain": [
       "Passenger_ID       0\n",
       "Accident_ID        0\n",
       "Age                0\n",
       "Gender             0\n",
       "Class              0\n",
       "Survival_Status    0\n",
       "Date               0\n",
       "Location           0\n",
       "Train_Speed_kmh    0\n",
       "Cause              0\n",
       "dtype: int64"
      ]
     },
     "execution_count": 23,
     "metadata": {},
     "output_type": "execute_result"
    }
   ],
   "source": [
    "data.isnull().sum()"
   ]
  },
  {
   "cell_type": "code",
   "execution_count": 24,
   "id": "cbeda002-d7ac-4a8d-907e-816ca3bccf56",
   "metadata": {},
   "outputs": [
    {
     "data": {
      "text/html": [
       "<div>\n",
       "<style scoped>\n",
       "    .dataframe tbody tr th:only-of-type {\n",
       "        vertical-align: middle;\n",
       "    }\n",
       "\n",
       "    .dataframe tbody tr th {\n",
       "        vertical-align: top;\n",
       "    }\n",
       "\n",
       "    .dataframe thead th {\n",
       "        text-align: right;\n",
       "    }\n",
       "</style>\n",
       "<table border=\"1\" class=\"dataframe\">\n",
       "  <thead>\n",
       "    <tr style=\"text-align: right;\">\n",
       "      <th></th>\n",
       "      <th>Passenger_ID</th>\n",
       "      <th>Accident_ID</th>\n",
       "      <th>Age</th>\n",
       "      <th>Survival_Status</th>\n",
       "      <th>Train_Speed_kmh</th>\n",
       "    </tr>\n",
       "  </thead>\n",
       "  <tbody>\n",
       "    <tr>\n",
       "      <th>count</th>\n",
       "      <td>1000.000000</td>\n",
       "      <td>1000.000000</td>\n",
       "      <td>1000.000000</td>\n",
       "      <td>1000.000000</td>\n",
       "      <td>1000.000000</td>\n",
       "    </tr>\n",
       "    <tr>\n",
       "      <th>mean</th>\n",
       "      <td>500.500000</td>\n",
       "      <td>50.250000</td>\n",
       "      <td>38.986000</td>\n",
       "      <td>0.613000</td>\n",
       "      <td>120.113000</td>\n",
       "    </tr>\n",
       "    <tr>\n",
       "      <th>std</th>\n",
       "      <td>288.819436</td>\n",
       "      <td>29.188379</td>\n",
       "      <td>22.694511</td>\n",
       "      <td>0.487307</td>\n",
       "      <td>42.318472</td>\n",
       "    </tr>\n",
       "    <tr>\n",
       "      <th>min</th>\n",
       "      <td>1.000000</td>\n",
       "      <td>1.000000</td>\n",
       "      <td>1.000000</td>\n",
       "      <td>0.000000</td>\n",
       "      <td>51.000000</td>\n",
       "    </tr>\n",
       "    <tr>\n",
       "      <th>25%</th>\n",
       "      <td>250.750000</td>\n",
       "      <td>25.000000</td>\n",
       "      <td>19.000000</td>\n",
       "      <td>0.000000</td>\n",
       "      <td>86.000000</td>\n",
       "    </tr>\n",
       "    <tr>\n",
       "      <th>50%</th>\n",
       "      <td>500.500000</td>\n",
       "      <td>49.000000</td>\n",
       "      <td>38.000000</td>\n",
       "      <td>1.000000</td>\n",
       "      <td>120.000000</td>\n",
       "    </tr>\n",
       "    <tr>\n",
       "      <th>75%</th>\n",
       "      <td>750.250000</td>\n",
       "      <td>76.000000</td>\n",
       "      <td>58.250000</td>\n",
       "      <td>1.000000</td>\n",
       "      <td>153.000000</td>\n",
       "    </tr>\n",
       "    <tr>\n",
       "      <th>max</th>\n",
       "      <td>1000.000000</td>\n",
       "      <td>100.000000</td>\n",
       "      <td>79.000000</td>\n",
       "      <td>1.000000</td>\n",
       "      <td>199.000000</td>\n",
       "    </tr>\n",
       "  </tbody>\n",
       "</table>\n",
       "</div>"
      ],
      "text/plain": [
       "       Passenger_ID  Accident_ID          Age  Survival_Status  \\\n",
       "count   1000.000000  1000.000000  1000.000000      1000.000000   \n",
       "mean     500.500000    50.250000    38.986000         0.613000   \n",
       "std      288.819436    29.188379    22.694511         0.487307   \n",
       "min        1.000000     1.000000     1.000000         0.000000   \n",
       "25%      250.750000    25.000000    19.000000         0.000000   \n",
       "50%      500.500000    49.000000    38.000000         1.000000   \n",
       "75%      750.250000    76.000000    58.250000         1.000000   \n",
       "max     1000.000000   100.000000    79.000000         1.000000   \n",
       "\n",
       "       Train_Speed_kmh  \n",
       "count      1000.000000  \n",
       "mean        120.113000  \n",
       "std          42.318472  \n",
       "min          51.000000  \n",
       "25%          86.000000  \n",
       "50%         120.000000  \n",
       "75%         153.000000  \n",
       "max         199.000000  "
      ]
     },
     "execution_count": 24,
     "metadata": {},
     "output_type": "execute_result"
    }
   ],
   "source": [
    "data.describe()"
   ]
  },
  {
   "cell_type": "code",
   "execution_count": 25,
   "id": "bb6fbb89-acb6-41bd-b8c8-26b4c950d0a7",
   "metadata": {},
   "outputs": [
    {
     "data": {
      "text/plain": [
       "Survival_Status\n",
       "1    613\n",
       "0    387\n",
       "Name: count, dtype: int64"
      ]
     },
     "execution_count": 25,
     "metadata": {},
     "output_type": "execute_result"
    }
   ],
   "source": [
    "data['Survival_Status'].value_counts()"
   ]
  },
  {
   "cell_type": "code",
   "execution_count": 26,
   "id": "f7f6d019-a5ff-4e89-b50a-3b5d6c032f90",
   "metadata": {},
   "outputs": [],
   "source": [
    "sns.set()"
   ]
  },
  {
   "cell_type": "code",
   "execution_count": 27,
   "id": "e744183d-1d64-40a3-a0ea-3d8dc59f53ad",
   "metadata": {},
   "outputs": [
    {
     "data": {
      "text/plain": [
       "<Axes: xlabel='count', ylabel='Survival_Status'>"
      ]
     },
     "execution_count": 27,
     "metadata": {},
     "output_type": "execute_result"
    },
    {
     "data": {
      "image/png": "[encoded data removed]",
      "text/plain": [
       "<Figure size 640x480 with 1 Axes>"
      ]
     },
     "metadata": {},
     "output_type": "display_data"
    }
   ],
   "source": [
    "sns.countplot(y='Survival_Status', data=data)\n"
   ]
  },
  {
   "cell_type": "code",
   "execution_count": 28,
   "id": "49f1d983-4e0a-46a3-8d87-c23a2ce7914b",
   "metadata": {},
   "outputs": [
    {
     "data": {
      "text/plain": [
       "Gender\n",
       "Female    515\n",
       "Male      485\n",
       "Name: count, dtype: int64"
      ]
     },
     "execution_count": 28,
     "metadata": {},
     "output_type": "execute_result"
    }
   ],
   "source": [
    "data['Gender'].value_counts()"
   ]
  },
  {
   "cell_type": "code",
   "execution_count": 29,
   "id": "24870699-1823-48ac-93f3-8b80b8a2ec46",
   "metadata": {},
   "outputs": [
    {
     "data": {
      "text/plain": [
       "<Axes: xlabel='count', ylabel='Gender'>"
      ]
     },
     "execution_count": 29,
     "metadata": {},
     "output_type": "execute_result"
    },
    {
     "data": {
      "image/png": "[encoded data removed]",
      "text/plain": [
       "<Figure size 640x480 with 1 Axes>"
      ]
     },
     "metadata": {},
     "output_type": "display_data"
    }
   ],
   "source": [
    "sns.countplot(y='Gender', data=data)"
   ]
  },
  {
   "cell_type": "code",
   "execution_count": 47,
   "id": "ce3b4439-5df9-401d-934f-77064523f8b6",
   "metadata": {},
   "outputs": [
    {
     "data": {
      "text/plain": [
       "<Axes: xlabel='Gender', ylabel='count'>"
      ]
     },
     "execution_count": 47,
     "metadata": {},
     "output_type": "execute_result"
    },
    {
     "data": {
      "image/png": "[encoded data removed]",
      "text/plain": [
       "<Figure size 640x480 with 1 Axes>"
      ]
     },
     "metadata": {},
     "output_type": "display_data"
    }
   ],
   "source": [
    "data['Gender'] = data['Gender'].astype(str)\n",
    "data['Survival_Status'] = data['Survival_Status'].astype(str)\n",
    "sns.countplot(x='Gender', hue='Survival_Status', data=data)\n",
    "\n"
   ]
  },
  {
   "cell_type": "code",
   "execution_count": 48,
   "id": "81721923-ac83-40d4-843c-e9e3bf1408e4",
   "metadata": {},
   "outputs": [
    {
     "data": {
      "text/plain": [
       "<Axes: xlabel='Location', ylabel='count'>"
      ]
     },
     "execution_count": 48,
     "metadata": {},
     "output_type": "execute_result"
    },
    {
     "data": {
      "image/png": "[encoded data removed]",
      "text/plain": [
       "<Figure size 640x480 with 1 Axes>"
      ]
     },
     "metadata": {},
     "output_type": "display_data"
    }
   ],
   "source": [
    "sns.countplot(x='Location', hue='Survival_Status', data=data)\n"
   ]
  },
  {
   "cell_type": "code",
   "execution_count": 49,
   "id": "02bd2da8-bac0-45ee-81f4-8a2416d93407",
   "metadata": {},
   "outputs": [
    {
     "data": {
      "text/plain": [
       "Gender\n",
       "Female    515\n",
       "Male      485\n",
       "Name: count, dtype: int64"
      ]
     },
     "execution_count": 49,
     "metadata": {},
     "output_type": "execute_result"
    }
   ],
   "source": [
    "data['Gender'].value_counts()"
   ]
  },
  {
   "cell_type": "code",
   "execution_count": 50,
   "id": "16c5b189-eba2-41e5-b18b-c4000278118d",
   "metadata": {},
   "outputs": [
    {
     "data": {
      "text/plain": [
       "Location\n",
       "City C    338\n",
       "City D    263\n",
       "City B    253\n",
       "City A    146\n",
       "Name: count, dtype: int64"
      ]
     },
     "execution_count": 50,
     "metadata": {},
     "output_type": "execute_result"
    }
   ],
   "source": [
    "data['Location'].value_counts()"
   ]
  },
  {
   "cell_type": "code",
   "execution_count": 51,
   "id": "995c70cf-621c-4f81-a3c3-394499e7d13e",
   "metadata": {},
   "outputs": [],
   "source": [
    "data.replace({'Gender': {'Male': 0, 'Female': 1}, \n",
    "              'Location': {'City A': 0, 'City B': 1, 'City C': 2, 'City D': 3}, \n",
    "              'Class': {'Business': 1, 'Economy': 0}}, \n",
    "             inplace=True)\n"
   ]
  },
  {
   "cell_type": "code",
   "execution_count": 52,
   "id": "f0535aeb-2c5a-4356-a542-e96b92410596",
   "metadata": {},
   "outputs": [
    {
     "data": {
      "text/html": [
       "<div>\n",
       "<style scoped>\n",
       "    .dataframe tbody tr th:only-of-type {\n",
       "        vertical-align: middle;\n",
       "    }\n",
       "\n",
       "    .dataframe tbody tr th {\n",
       "        vertical-align: top;\n",
       "    }\n",
       "\n",
       "    .dataframe thead th {\n",
       "        text-align: right;\n",
       "    }\n",
       "</style>\n",
       "<table border=\"1\" class=\"dataframe\">\n",
       "  <thead>\n",
       "    <tr style=\"text-align: right;\">\n",
       "      <th></th>\n",
       "      <th>Passenger_ID</th>\n",
       "      <th>Accident_ID</th>\n",
       "      <th>Age</th>\n",
       "      <th>Gender</th>\n",
       "      <th>Class</th>\n",
       "      <th>Survival_Status</th>\n",
       "      <th>Date</th>\n",
       "      <th>Location</th>\n",
       "      <th>Train_Speed_kmh</th>\n",
       "      <th>Cause</th>\n",
       "    </tr>\n",
       "  </thead>\n",
       "  <tbody>\n",
       "    <tr>\n",
       "      <th>0</th>\n",
       "      <td>1</td>\n",
       "      <td>23</td>\n",
       "      <td>35</td>\n",
       "      <td>1</td>\n",
       "      <td>1</td>\n",
       "      <td>0</td>\n",
       "      <td>03-06-2020</td>\n",
       "      <td>3</td>\n",
       "      <td>71</td>\n",
       "      <td>Human Error</td>\n",
       "    </tr>\n",
       "    <tr>\n",
       "      <th>1</th>\n",
       "      <td>2</td>\n",
       "      <td>85</td>\n",
       "      <td>65</td>\n",
       "      <td>0</td>\n",
       "      <td>1</td>\n",
       "      <td>0</td>\n",
       "      <td>11-08-2021</td>\n",
       "      <td>3</td>\n",
       "      <td>130</td>\n",
       "      <td>Collision</td>\n",
       "    </tr>\n",
       "    <tr>\n",
       "      <th>2</th>\n",
       "      <td>3</td>\n",
       "      <td>19</td>\n",
       "      <td>47</td>\n",
       "      <td>0</td>\n",
       "      <td>1</td>\n",
       "      <td>1</td>\n",
       "      <td>06-05-2020</td>\n",
       "      <td>2</td>\n",
       "      <td>87</td>\n",
       "      <td>Mechanical Failure</td>\n",
       "    </tr>\n",
       "    <tr>\n",
       "      <th>3</th>\n",
       "      <td>4</td>\n",
       "      <td>19</td>\n",
       "      <td>78</td>\n",
       "      <td>0</td>\n",
       "      <td>1</td>\n",
       "      <td>0</td>\n",
       "      <td>06-05-2020</td>\n",
       "      <td>2</td>\n",
       "      <td>87</td>\n",
       "      <td>Mechanical Failure</td>\n",
       "    </tr>\n",
       "    <tr>\n",
       "      <th>4</th>\n",
       "      <td>5</td>\n",
       "      <td>36</td>\n",
       "      <td>3</td>\n",
       "      <td>0</td>\n",
       "      <td>0</td>\n",
       "      <td>0</td>\n",
       "      <td>02-09-2020</td>\n",
       "      <td>1</td>\n",
       "      <td>122</td>\n",
       "      <td>Mechanical Failure</td>\n",
       "    </tr>\n",
       "  </tbody>\n",
       "</table>\n",
       "</div>"
      ],
      "text/plain": [
       "   Passenger_ID  Accident_ID  Age  Gender  Class Survival_Status        Date  \\\n",
       "0             1           23   35       1      1               0  03-06-2020   \n",
       "1             2           85   65       0      1               0  11-08-2021   \n",
       "2             3           19   47       0      1               1  06-05-2020   \n",
       "3             4           19   78       0      1               0  06-05-2020   \n",
       "4             5           36    3       0      0               0  02-09-2020   \n",
       "\n",
       "   Location  Train_Speed_kmh               Cause  \n",
       "0         3               71         Human Error  \n",
       "1         3              130           Collision  \n",
       "2         2               87  Mechanical Failure  \n",
       "3         2               87  Mechanical Failure  \n",
       "4         1              122  Mechanical Failure  "
      ]
     },
     "execution_count": 52,
     "metadata": {},
     "output_type": "execute_result"
    }
   ],
   "source": [
    "data.head()"
   ]
  },
  {
   "cell_type": "code",
   "execution_count": 53,
   "id": "ffb4d050-0f25-44dc-a32b-1635dcfe889c",
   "metadata": {},
   "outputs": [],
   "source": [
    "x=data.drop(columns=['Accident_ID',\"Date\",\"Train_Speed_kmh\",\"Cause\",\"Passenger_ID\",\"Survival_Status\"],axis=1)\n",
    "\n",
    "y=data[\"Survival_Status\"]"
   ]
  },
  {
   "cell_type": "code",
   "execution_count": 54,
   "id": "4a19e867-ca05-46bb-8f50-72bc86958bec",
   "metadata": {},
   "outputs": [
    {
     "name": "stdout",
     "output_type": "stream",
     "text": [
      "     Age  Gender  Class  Location\n",
      "0     35       1      1         3\n",
      "1     65       0      1         3\n",
      "2     47       0      1         2\n",
      "3     78       0      1         2\n",
      "4      3       0      0         1\n",
      "..   ...     ...    ...       ...\n",
      "995   48       0      1         3\n",
      "996    7       1      0         2\n",
      "997   74       0      0         1\n",
      "998    7       1      1         0\n",
      "999   33       1      1         1\n",
      "\n",
      "[1000 rows x 4 columns]\n"
     ]
    }
   ],
   "source": [
    "print(x)"
   ]
  },
  {
   "cell_type": "code",
   "execution_count": 55,
   "id": "fda065ad-ed34-483a-8674-ba513a33af32",
   "metadata": {},
   "outputs": [
    {
     "name": "stdout",
     "output_type": "stream",
     "text": [
      "0      0\n",
      "1      0\n",
      "2      1\n",
      "3      0\n",
      "4      0\n",
      "      ..\n",
      "995    1\n",
      "996    1\n",
      "997    1\n",
      "998    1\n",
      "999    1\n",
      "Name: Survival_Status, Length: 1000, dtype: object\n"
     ]
    }
   ],
   "source": [
    "print(y)"
   ]
  },
  {
   "cell_type": "code",
   "execution_count": 56,
   "id": "6a8aa46f-6ae9-4565-ae8a-dec641331314",
   "metadata": {},
   "outputs": [],
   "source": [
    "x_train,x_test,y_train,y_test=train_test_split(x,y,test_size=0.25,random_state=2 )"
   ]
  },
  {
   "cell_type": "code",
   "execution_count": 57,
   "id": "725f0541-c7d2-4e2d-883c-a2c6401a593c",
   "metadata": {},
   "outputs": [
    {
     "name": "stdout",
     "output_type": "stream",
     "text": [
      "(1000, 4) (750, 4) (250, 4)\n"
     ]
    }
   ],
   "source": [
    "print(x.shape,x_train.shape,x_test.shape)"
   ]
  },
  {
   "cell_type": "code",
   "execution_count": 58,
   "id": "e3f7e88d-3dcd-4c34-ac5f-786afbe7ecc3",
   "metadata": {},
   "outputs": [],
   "source": [
    "model=LogisticRegression()"
   ]
  },
  {
   "cell_type": "code",
   "execution_count": 59,
   "id": "b89eea5b-5cf2-4be1-b5f3-e233680945bb",
   "metadata": {},
   "outputs": [
    {
     "data": {
      "text/html": [
       "<style>#sk-container-id-1 {color: black;background-color: white;}#sk-container-id-1 pre{padding: 0;}#sk-container-id-1 div.sk-toggleable {background-color: white;}#sk-container-id-1 label.sk-toggleable__label {cursor: pointer;display: block;width: 100%;margin-bottom: 0;padding: 0.3em;box-sizing: border-box;text-align: center;}#sk-container-id-1 label.sk-toggleable__label-arrow:before {content: \"▸\";float: left;margin-right: 0.25em;color: #696969;}#sk-container-id-1 label.sk-toggleable__label-arrow:hover:before {color: black;}#sk-container-id-1 div.sk-estimator:hover label.sk-toggleable__label-arrow:before {color: black;}#sk-container-id-1 div.sk-toggleable__content {max-height: 0;max-width: 0;overflow: hidden;text-align: left;background-color: #f0f8ff;}#sk-container-id-1 div.sk-toggleable__content pre {margin: 0.2em;color: black;border-radius: 0.25em;background-color: #f0f8ff;}#sk-container-id-1 input.sk-toggleable__control:checked~div.sk-toggleable__content {max-height: 200px;max-width: 100%;overflow: auto;}#sk-container-id-1 input.sk-toggleable__control:checked~label.sk-toggleable__label-arrow:before {content: \"▾\";}#sk-container-id-1 div.sk-estimator input.sk-toggleable__control:checked~label.sk-toggleable__label {background-color: #d4ebff;}#sk-container-id-1 div.sk-label input.sk-toggleable__control:checked~label.sk-toggleable__label {background-color: #d4ebff;}#sk-container-id-1 input.sk-hidden--visually {border: 0;clip: rect(1px 1px 1px 1px);clip: rect(1px, 1px, 1px, 1px);height: 1px;margin: -1px;overflow: hidden;padding: 0;position: absolute;width: 1px;}#sk-container-id-1 div.sk-estimator {font-family: monospace;background-color: #f0f8ff;border: 1px dotted black;border-radius: 0.25em;box-sizing: border-box;margin-bottom: 0.5em;}#sk-container-id-1 div.sk-estimator:hover {background-color: #d4ebff;}#sk-container-id-1 div.sk-parallel-item::after {content: \"\";width: 100%;border-bottom: 1px solid gray;flex-grow: 1;}#sk-container-id-1 div.sk-label:hover label.sk-toggleable__label {background-color: #d4ebff;}#sk-container-id-1 div.sk-serial::before {content: \"\";position: absolute;border-left: 1px solid gray;box-sizing: border-box;top: 0;bottom: 0;left: 50%;z-index: 0;}#sk-container-id-1 div.sk-serial {display: flex;flex-direction: column;align-items: center;background-color: white;padding-right: 0.2em;padding-left: 0.2em;position: relative;}#sk-container-id-1 div.sk-item {position: relative;z-index: 1;}#sk-container-id-1 div.sk-parallel {display: flex;align-items: stretch;justify-content: center;background-color: white;position: relative;}#sk-container-id-1 div.sk-item::before, #sk-container-id-1 div.sk-parallel-item::before {content: \"\";position: absolute;border-left: 1px solid gray;box-sizing: border-box;top: 0;bottom: 0;left: 50%;z-index: -1;}#sk-container-id-1 div.sk-parallel-item {display: flex;flex-direction: column;z-index: 1;position: relative;background-color: white;}#sk-container-id-1 div.sk-parallel-item:first-child::after {align-self: flex-end;width: 50%;}#sk-container-id-1 div.sk-parallel-item:last-child::after {align-self: flex-start;width: 50%;}#sk-container-id-1 div.sk-parallel-item:only-child::after {width: 0;}#sk-container-id-1 div.sk-dashed-wrapped {border: 1px dashed gray;margin: 0 0.4em 0.5em 0.4em;box-sizing: border-box;padding-bottom: 0.4em;background-color: white;}#sk-container-id-1 div.sk-label label {font-family: monospace;font-weight: bold;display: inline-block;line-height: 1.2em;}#sk-container-id-1 div.sk-label-container {text-align: center;}#sk-container-id-1 div.sk-container {/* jupyter's `normalize.less` sets `[hidden] { display: none; }` but bootstrap.min.css set `[hidden] { display: none !important; }` so we also need the `!important` here to be able to override the default hidden behavior on the sphinx rendered scikit-learn.org. See: https://github.com/scikit-learn/scikit-learn/issues/21755 */display: inline-block !important;position: relative;}#sk-container-id-1 div.sk-text-repr-fallback {display: none;}</style><div id=\"sk-container-id-1\" class=\"sk-top-container\"><div class=\"sk-text-repr-fallback\"><pre>LogisticRegression()</pre><b>In a Jupyter environment, please rerun this cell to show the HTML representation or trust the notebook. <br />On GitHub, the HTML representation is unable to render, please try loading this page with nbviewer.org.</b></div><div class=\"sk-container\" hidden><div class=\"sk-item\"><div class=\"sk-estimator sk-toggleable\"><input class=\"sk-toggleable__control sk-hidden--visually\" id=\"sk-estimator-id-1\" type=\"checkbox\" checked><label for=\"sk-estimator-id-1\" class=\"sk-toggleable__label sk-toggleable__label-arrow\">LogisticRegression</label><div class=\"sk-toggleable__content\"><pre>LogisticRegression()</pre></div></div></div></div></div>"
      ],
      "text/plain": [
       "LogisticRegression()"
      ]
     },
     "execution_count": 59,
     "metadata": {},
     "output_type": "execute_result"
    }
   ],
   "source": [
    "model.fit(x_train,y_train)"
   ]
  },
  {
   "cell_type": "code",
   "execution_count": 60,
   "id": "69826345-9e46-4fef-a554-db89bed3a086",
   "metadata": {},
   "outputs": [],
   "source": [
    "x_train_prediction=model.predict(x_train)\n"
   ]
  },
  {
   "cell_type": "code",
   "execution_count": 61,
   "id": "1d5b69f5-64db-4637-bb74-f0d14ef287c7",
   "metadata": {},
   "outputs": [
    {
     "name": "stdout",
     "output_type": "stream",
     "text": [
      "['1' '1' '1' '1' '1' '1' '1' '1' '1' '1' '1' '1' '1' '1' '1' '1' '1' '1'\n",
      " '1' '1' '1' '1' '1' '1' '1' '1' '1' '1' '1' '1' '1' '1' '1' '1' '1' '1'\n",
      " '1' '1' '1' '1' '1' '1' '1' '1' '1' '1' '1' '1' '1' '1' '1' '1' '1' '1'\n",
      " '1' '1' '1' '1' '1' '1' '1' '1' '1' '1' '1' '1' '1' '1' '1' '1' '1' '1'\n",
      " '1' '1' '1' '1' '1' '1' '1' '1' '1' '1' '1' '1' '1' '1' '1' '1' '1' '1'\n",
      " '1' '1' '1' '1' '1' '1' '1' '1' '1' '1' '1' '1' '1' '1' '1' '1' '1' '1'\n",
      " '1' '1' '1' '1' '1' '1' '1' '1' '1' '1' '1' '1' '1' '1' '1' '1' '1' '1'\n",
      " '1' '1' '1' '1' '1' '1' '1' '1' '1' '1' '1' '1' '1' '1' '1' '1' '1' '1'\n",
      " '1' '1' '1' '1' '1' '1' '1' '1' '1' '1' '1' '1' '1' '1' '1' '1' '1' '1'\n",
      " '1' '1' '1' '1' '1' '1' '1' '1' '1' '1' '1' '1' '1' '1' '1' '1' '1' '1'\n",
      " '1' '1' '1' '1' '1' '1' '1' '1' '1' '1' '1' '1' '1' '1' '1' '1' '1' '1'\n",
      " '1' '1' '1' '1' '1' '1' '1' '1' '1' '1' '1' '1' '1' '1' '1' '1' '1' '1'\n",
      " '1' '1' '1' '1' '1' '1' '1' '1' '1' '1' '1' '1' '1' '1' '1' '1' '1' '1'\n",
      " '1' '1' '1' '1' '1' '1' '1' '1' '1' '1' '1' '1' '1' '1' '1' '1' '1' '1'\n",
      " '1' '1' '1' '1' '1' '1' '1' '1' '1' '1' '1' '1' '1' '1' '1' '1' '1' '1'\n",
      " '1' '1' '1' '1' '1' '1' '1' '1' '1' '1' '1' '1' '1' '1' '1' '1' '1' '1'\n",
      " '1' '1' '1' '1' '1' '1' '1' '1' '1' '1' '1' '1' '1' '1' '1' '1' '1' '1'\n",
      " '1' '1' '1' '1' '1' '1' '1' '1' '1' '1' '1' '1' '1' '1' '1' '1' '1' '1'\n",
      " '1' '1' '1' '1' '1' '1' '1' '1' '1' '1' '1' '1' '1' '1' '1' '1' '1' '1'\n",
      " '1' '1' '1' '1' '1' '1' '1' '1' '1' '1' '1' '1' '1' '1' '1' '1' '1' '1'\n",
      " '1' '1' '1' '1' '1' '1' '1' '1' '1' '1' '1' '1' '1' '1' '1' '1' '1' '1'\n",
      " '1' '1' '1' '1' '1' '1' '1' '1' '1' '1' '1' '1' '1' '1' '1' '1' '1' '1'\n",
      " '1' '1' '1' '1' '1' '1' '1' '1' '1' '1' '1' '1' '1' '1' '1' '1' '1' '1'\n",
      " '1' '1' '1' '1' '1' '1' '1' '1' '1' '1' '1' '1' '1' '1' '1' '1' '1' '1'\n",
      " '1' '1' '1' '1' '1' '1' '1' '1' '1' '1' '1' '1' '1' '1' '1' '1' '1' '1'\n",
      " '1' '1' '1' '1' '1' '1' '1' '1' '1' '1' '1' '1' '1' '1' '1' '1' '1' '1'\n",
      " '1' '1' '1' '1' '1' '1' '1' '1' '1' '1' '1' '1' '1' '1' '1' '1' '1' '1'\n",
      " '1' '1' '1' '1' '1' '1' '1' '1' '1' '1' '1' '1' '1' '1' '1' '1' '1' '1'\n",
      " '1' '1' '1' '1' '1' '1' '1' '1' '1' '1' '1' '1' '1' '1' '1' '1' '1' '1'\n",
      " '1' '1' '1' '1' '1' '1' '1' '1' '1' '1' '1' '1' '1' '1' '1' '1' '1' '1'\n",
      " '1' '1' '1' '1' '1' '1' '1' '1' '1' '1' '1' '1' '1' '1' '1' '1' '1' '1'\n",
      " '1' '1' '1' '1' '1' '1' '1' '1' '1' '1' '1' '1' '1' '1' '1' '1' '1' '1'\n",
      " '1' '1' '1' '1' '1' '1' '1' '1' '1' '1' '1' '1' '1' '1' '1' '1' '1' '1'\n",
      " '1' '1' '1' '1' '1' '1' '1' '1' '1' '1' '1' '1' '1' '1' '1' '1' '1' '1'\n",
      " '1' '1' '1' '1' '1' '1' '1' '1' '1' '1' '1' '1' '1' '1' '1' '1' '1' '1'\n",
      " '1' '1' '1' '1' '1' '1' '1' '1' '1' '1' '1' '1' '1' '1' '1' '1' '1' '1'\n",
      " '1' '1' '1' '1' '1' '1' '1' '1' '1' '1' '1' '1' '1' '1' '1' '1' '1' '1'\n",
      " '1' '1' '1' '1' '1' '1' '1' '1' '1' '1' '1' '1' '1' '1' '1' '1' '1' '1'\n",
      " '1' '1' '1' '1' '1' '1' '1' '1' '1' '1' '1' '1' '1' '1' '1' '1' '1' '1'\n",
      " '1' '1' '1' '1' '1' '1' '1' '1' '1' '1' '1' '1' '1' '1' '1' '1' '1' '1'\n",
      " '1' '1' '1' '1' '1' '1' '1' '1' '1' '1' '1' '1' '1' '1' '1' '1' '1' '1'\n",
      " '1' '1' '1' '1' '1' '1' '1' '1' '1' '1' '1' '1']\n"
     ]
    }
   ],
   "source": [
    "print(x_train_prediction)"
   ]
  },
  {
   "cell_type": "code",
   "execution_count": 62,
   "id": "c2433a15-1209-4d65-bec9-4ddd7bbcb585",
   "metadata": {},
   "outputs": [
    {
     "name": "stdout",
     "output_type": "stream",
     "text": [
      "accuracy score of training data: 0.6053333333333333\n"
     ]
    }
   ],
   "source": [
    "training_data_accuracy=accuracy_score(y_train,x_train_prediction)\n",
    "print(\"accuracy score of training data:\",training_data_accuracy)"
   ]
  },
  {
   "cell_type": "code",
   "execution_count": 63,
   "id": "042c9a91-10f4-4cba-945a-b65b4f805ced",
   "metadata": {},
   "outputs": [],
   "source": [
    "x_test_prediction=model.predict(x_test)"
   ]
  },
  {
   "cell_type": "code",
   "execution_count": 64,
   "id": "94adf50f-0d93-43a6-9f1f-0885a4832d79",
   "metadata": {},
   "outputs": [
    {
     "name": "stdout",
     "output_type": "stream",
     "text": [
      "['1' '1' '1' '1' '1' '1' '1' '1' '1' '1' '1' '1' '1' '1' '1' '1' '1' '1'\n",
      " '1' '1' '1' '1' '1' '1' '1' '1' '1' '1' '1' '1' '1' '1' '1' '1' '1' '1'\n",
      " '1' '1' '1' '1' '1' '1' '1' '1' '1' '1' '1' '1' '1' '1' '1' '1' '1' '1'\n",
      " '1' '1' '1' '1' '1' '1' '1' '1' '1' '1' '1' '1' '1' '1' '1' '1' '1' '1'\n",
      " '1' '1' '1' '1' '1' '1' '1' '1' '1' '1' '1' '1' '1' '1' '1' '1' '1' '1'\n",
      " '1' '1' '1' '1' '1' '1' '1' '1' '1' '1' '1' '1' '1' '1' '1' '1' '1' '1'\n",
      " '1' '1' '1' '1' '1' '1' '1' '1' '1' '1' '1' '1' '1' '1' '1' '1' '1' '1'\n",
      " '1' '1' '1' '1' '1' '1' '1' '1' '1' '1' '1' '1' '1' '1' '1' '1' '1' '1'\n",
      " '1' '1' '1' '1' '1' '1' '1' '1' '1' '1' '1' '1' '1' '1' '1' '1' '1' '1'\n",
      " '1' '1' '1' '1' '1' '1' '1' '1' '1' '1' '1' '1' '1' '1' '1' '1' '1' '1'\n",
      " '1' '1' '1' '1' '1' '1' '1' '1' '1' '1' '1' '1' '1' '1' '1' '1' '1' '1'\n",
      " '1' '1' '1' '1' '1' '1' '1' '1' '1' '1' '1' '1' '1' '1' '1' '1' '1' '1'\n",
      " '1' '1' '1' '1' '1' '1' '1' '1' '1' '1' '1' '1' '1' '1' '1' '1' '1' '1'\n",
      " '1' '1' '1' '1' '1' '1' '1' '1' '1' '1' '1' '1' '1' '1' '1' '1']\n"
     ]
    }
   ],
   "source": [
    "print(x_test_prediction)"
   ]
  },
  {
   "cell_type": "code",
   "execution_count": 65,
   "id": "1e4cd31e-dc40-47c4-89c9-eb0568e28012",
   "metadata": {},
   "outputs": [
    {
     "name": "stdout",
     "output_type": "stream",
     "text": [
      "accuracy score of testing data: 0.636\n"
     ]
    }
   ],
   "source": [
    "test_data_accuracy=accuracy_score(y_test,x_test_prediction)\n",
    "print(\"accuracy score of testing data:\",test_data_accuracy)"
   ]
  },
  {
   "cell_type": "code",
   "execution_count": null,
   "id": "6eb3dd71-15e7-4983-a01a-fea8cf1111b4",
   "metadata": {},
   "outputs": [],
   "source": []
  }
 ],
 "metadata": {
  "kernelspec": {
   "display_name": "Python 3 (ipykernel)",
   "language": "python",
   "name": "python3"
  },
  "language_info": {
   "codemirror_mode": {
    "name": "ipython",
    "version": 3
   },
   "file_extension": ".py",
   "mimetype": "text/x-python",
   "name": "python",
   "nbconvert_exporter": "python",
   "pygments_lexer": "ipython3",
   "version": "3.11.7"
  }
 },
 "nbformat": 4,
 "nbformat_minor": 5
}
